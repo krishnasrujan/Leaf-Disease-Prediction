{
  "nbformat": 4,
  "nbformat_minor": 0,
  "metadata": {
    "colab": {
      "name": "VGG16.ipynb",
      "provenance": []
    },
    "kernelspec": {
      "name": "python3",
      "display_name": "Python 3"
    },
    "accelerator": "GPU"
  },
  "cells": [
    {
      "cell_type": "code",
      "metadata": {
        "id": "WgqlqqH55_QG",
        "colab_type": "code",
        "colab": {
          "base_uri": "https://localhost:8080/",
          "height": 34
        },
        "outputId": "d506203f-7413-49fb-eb3d-81802c0702b9"
      },
      "source": [
        "from google.colab import drive\n",
        "drive.mount('/content/drive')"
      ],
      "execution_count": 7,
      "outputs": [
        {
          "output_type": "stream",
          "text": [
            "Mounted at /content/drive\n"
          ],
          "name": "stdout"
        }
      ]
    },
    {
      "cell_type": "code",
      "metadata": {
        "id": "Fr0ZF71P6HB_",
        "colab_type": "code",
        "colab": {}
      },
      "source": [
        "import tensorflow as tf\n",
        "from tensorflow.keras.layers import Flatten,Activation,Dense,Conv2D,MaxPooling2D,Dropout\n",
        "from tensorflow.keras.models import Sequential\n",
        "from tensorflow.keras.layers import BatchNormalization\n",
        "from tensorflow.keras import regularizers\n",
        "from sklearn.model_selection import train_test_split\n",
        "from tensorflow.keras.preprocessing.image import ImageDataGenerator\n",
        "from tensorflow import keras\n",
        "from tensorflow.keras.models import Model\n",
        "import cv2                 # working with, mainly resizing, images\n",
        "import numpy as np         # dealing with arrays\n",
        "import os                  # dealing with directories\n",
        "from random import shuffle # mixing up or currently ordered data that might lead our network astray in training.\n",
        "from tqdm import tqdm      # a nice pretty percentage bar for tasks. \\\n",
        "import matplotlib.pyplot as plt\n",
        "\n",
        "TRAIN_DIR = '/content/drive/My Drive' #path of dataset\n",
        "IMG_SIZE =128\n",
        "input_shape=(IMG_SIZE,IMG_SIZE,3)"
      ],
      "execution_count": 5,
      "outputs": []
    },
    {
      "cell_type": "code",
      "metadata": {
        "id": "f5j8IsBL6HjU",
        "colab_type": "code",
        "colab": {}
      },
      "source": [
        "train_data=np.load(\"/content/drive/My Drive/plantvillage128_40_train.npy\",allow_pickle=True)\n",
        "valid_data = np.load(\"/content/drive/My Drive/plantvillage128_40_valid.npy\",allow_pickle=True)"
      ],
      "execution_count": 10,
      "outputs": []
    },
    {
      "cell_type": "code",
      "metadata": {
        "id": "sf_42S9k6JNG",
        "colab_type": "code",
        "colab": {
          "base_uri": "https://localhost:8080/",
          "height": 34
        },
        "outputId": "0dee1824-c2fc-4eb6-e324-81a4f86f688b"
      },
      "source": [
        "train_y=np.array([i[1] for i in train_data]).reshape(-1,1)\n",
        "train_x=np.array([i[0] for i in train_data]).reshape(-1,IMG_SIZE,IMG_SIZE,3)\n",
        "\n",
        "valid_y=np.array([i[1] for i in valid_data]).reshape(-1,1)\n",
        "valid_x=np.array([i[0] for i in valid_data]).reshape(-1,IMG_SIZE,IMG_SIZE,3)\n",
        "\n",
        "train_x.shape"
      ],
      "execution_count": 11,
      "outputs": [
        {
          "output_type": "execute_result",
          "data": {
            "text/plain": [
              "(16000, 128, 128, 3)"
            ]
          },
          "metadata": {
            "tags": []
          },
          "execution_count": 11
        }
      ]
    },
    {
      "cell_type": "code",
      "metadata": {
        "id": "yqL4f4xD6LAA",
        "colab_type": "code",
        "colab": {}
      },
      "source": [
        "vgg16 = keras.applications.VGG16(include_top=False, weights='imagenet', \n",
        "                                     input_shape=input_shape)\n",
        "\n",
        "from keras.layers import GlobalAveragePooling2D\n",
        "output =  vgg16.layers[-1].output\n",
        "avg_pool = GlobalAveragePooling2D()(output)\n",
        "output = tf.keras.layers.Flatten()(avg_pool)\n",
        "vgg16_model = Model(vgg16.input, output)\n",
        "\n",
        "vgg16_model.trainable = False\n",
        "for layer in vgg16_model.layers:\n",
        "    layer.trainable = False"
      ],
      "execution_count": 15,
      "outputs": []
    },
    {
      "cell_type": "code",
      "metadata": {
        "id": "eX3rNTuF6oaF",
        "colab_type": "code",
        "colab": {
          "base_uri": "https://localhost:8080/",
          "height": 867
        },
        "outputId": "e24c7cb1-9579-4892-b7d8-e18b808b4492"
      },
      "source": [
        "vgg16_model.summary()"
      ],
      "execution_count": 6,
      "outputs": [
        {
          "output_type": "stream",
          "text": [
            "Model: \"functional_1\"\n",
            "_________________________________________________________________\n",
            "Layer (type)                 Output Shape              Param #   \n",
            "=================================================================\n",
            "input_1 (InputLayer)         [(None, 128, 128, 3)]     0         \n",
            "_________________________________________________________________\n",
            "block1_conv1 (Conv2D)        (None, 128, 128, 64)      1792      \n",
            "_________________________________________________________________\n",
            "block1_conv2 (Conv2D)        (None, 128, 128, 64)      36928     \n",
            "_________________________________________________________________\n",
            "block1_pool (MaxPooling2D)   (None, 64, 64, 64)        0         \n",
            "_________________________________________________________________\n",
            "block2_conv1 (Conv2D)        (None, 64, 64, 128)       73856     \n",
            "_________________________________________________________________\n",
            "block2_conv2 (Conv2D)        (None, 64, 64, 128)       147584    \n",
            "_________________________________________________________________\n",
            "block2_pool (MaxPooling2D)   (None, 32, 32, 128)       0         \n",
            "_________________________________________________________________\n",
            "block3_conv1 (Conv2D)        (None, 32, 32, 256)       295168    \n",
            "_________________________________________________________________\n",
            "block3_conv2 (Conv2D)        (None, 32, 32, 256)       590080    \n",
            "_________________________________________________________________\n",
            "block3_conv3 (Conv2D)        (None, 32, 32, 256)       590080    \n",
            "_________________________________________________________________\n",
            "block3_pool (MaxPooling2D)   (None, 16, 16, 256)       0         \n",
            "_________________________________________________________________\n",
            "block4_conv1 (Conv2D)        (None, 16, 16, 512)       1180160   \n",
            "_________________________________________________________________\n",
            "block4_conv2 (Conv2D)        (None, 16, 16, 512)       2359808   \n",
            "_________________________________________________________________\n",
            "block4_conv3 (Conv2D)        (None, 16, 16, 512)       2359808   \n",
            "_________________________________________________________________\n",
            "block4_pool (MaxPooling2D)   (None, 8, 8, 512)         0         \n",
            "_________________________________________________________________\n",
            "block5_conv1 (Conv2D)        (None, 8, 8, 512)         2359808   \n",
            "_________________________________________________________________\n",
            "block5_conv2 (Conv2D)        (None, 8, 8, 512)         2359808   \n",
            "_________________________________________________________________\n",
            "block5_conv3 (Conv2D)        (None, 8, 8, 512)         2359808   \n",
            "_________________________________________________________________\n",
            "block5_pool (MaxPooling2D)   (None, 4, 4, 512)         0         \n",
            "_________________________________________________________________\n",
            "global_average_pooling2d (Gl (None, 512)               0         \n",
            "_________________________________________________________________\n",
            "flatten (Flatten)            (None, 512)               0         \n",
            "=================================================================\n",
            "Total params: 14,714,688\n",
            "Trainable params: 0\n",
            "Non-trainable params: 14,714,688\n",
            "_________________________________________________________________\n"
          ],
          "name": "stdout"
        }
      ]
    },
    {
      "cell_type": "code",
      "metadata": {
        "id": "fkPYuhBZ6tPV",
        "colab_type": "code",
        "colab": {}
      },
      "source": [
        "from tensorflow.keras import optimizers\n",
        "import time\n",
        "model = Sequential()\n",
        "model.add(vgg16_model)\n",
        "model.add(Dense(512, activation='sigmoid', input_dim=input_shape))\n",
        "model.add(Dropout(0.4))\n",
        "model.add(Dense(256, activation='sigmoid'))\n",
        "model.add(Dropout(0.4))\n",
        "model.add(Dense(40, activation='softmax'))\n",
        "\n",
        "opt = tf.keras.optimizers.Adam(learning_rate=0.0003)\n",
        "model.compile(loss='sparse_categorical_crossentropy',optimizer=opt,metrics=['accuracy'])\n"
      ],
      "execution_count": 21,
      "outputs": []
    },
    {
      "cell_type": "code",
      "metadata": {
        "id": "nZyPfjCAo-Hy",
        "colab_type": "code",
        "colab": {
          "base_uri": "https://localhost:8080/",
          "height": 1000
        },
        "outputId": "afa1bc3e-bcce-4370-e8ed-3c05d6170417"
      },
      "source": [
        "start=time.time()\n",
        "\n",
        "vgg16_history1=model.fit(train_x,train_y,batch_size=128,epochs=0,validation_data=(valid_x,valid_y))\n",
        "end=time.time()\n",
        "model.summary()"
      ],
      "execution_count": 22,
      "outputs": [
        {
          "output_type": "stream",
          "text": [
            "Epoch 1/70\n",
            "  2/125 [..............................] - ETA: 9s - loss: 4.0491 - accuracy: 0.0156WARNING:tensorflow:Callbacks method `on_train_batch_end` is slow compared to the batch time (batch time: 0.0074s vs `on_train_batch_end` time: 0.0709s). Check your callbacks.\n",
            "125/125 [==============================] - 14s 110ms/step - loss: 3.0981 - accuracy: 0.2104 - val_loss: 2.2415 - val_accuracy: 0.5989\n",
            "Epoch 2/70\n",
            "125/125 [==============================] - 13s 108ms/step - loss: 1.9360 - accuracy: 0.5178 - val_loss: 1.4104 - val_accuracy: 0.7300\n",
            "Epoch 3/70\n",
            "125/125 [==============================] - 13s 108ms/step - loss: 1.3391 - accuracy: 0.6574 - val_loss: 0.9959 - val_accuracy: 0.7819\n",
            "Epoch 4/70\n",
            "125/125 [==============================] - 13s 108ms/step - loss: 1.0101 - accuracy: 0.7319 - val_loss: 0.7703 - val_accuracy: 0.8165\n",
            "Epoch 5/70\n",
            "125/125 [==============================] - 13s 108ms/step - loss: 0.8143 - accuracy: 0.7791 - val_loss: 0.6403 - val_accuracy: 0.8319\n",
            "Epoch 6/70\n",
            "125/125 [==============================] - 14s 108ms/step - loss: 0.6825 - accuracy: 0.8108 - val_loss: 0.5514 - val_accuracy: 0.8521\n",
            "Epoch 7/70\n",
            "125/125 [==============================] - 13s 108ms/step - loss: 0.5926 - accuracy: 0.8297 - val_loss: 0.4891 - val_accuracy: 0.8658\n",
            "Epoch 8/70\n",
            "125/125 [==============================] - 13s 108ms/step - loss: 0.5312 - accuracy: 0.8448 - val_loss: 0.4470 - val_accuracy: 0.8710\n",
            "Epoch 9/70\n",
            "125/125 [==============================] - 14s 108ms/step - loss: 0.4735 - accuracy: 0.8581 - val_loss: 0.4129 - val_accuracy: 0.8779\n",
            "Epoch 10/70\n",
            "125/125 [==============================] - 13s 108ms/step - loss: 0.4230 - accuracy: 0.8718 - val_loss: 0.3874 - val_accuracy: 0.8836\n",
            "Epoch 11/70\n",
            "125/125 [==============================] - 13s 108ms/step - loss: 0.3963 - accuracy: 0.8809 - val_loss: 0.3658 - val_accuracy: 0.8879\n",
            "Epoch 12/70\n",
            "125/125 [==============================] - 14s 108ms/step - loss: 0.3633 - accuracy: 0.8872 - val_loss: 0.3508 - val_accuracy: 0.8886\n",
            "Epoch 13/70\n",
            "125/125 [==============================] - 14s 108ms/step - loss: 0.3361 - accuracy: 0.8977 - val_loss: 0.3335 - val_accuracy: 0.8933\n",
            "Epoch 14/70\n",
            "125/125 [==============================] - 14s 109ms/step - loss: 0.3129 - accuracy: 0.9068 - val_loss: 0.3225 - val_accuracy: 0.8966\n",
            "Epoch 15/70\n",
            "125/125 [==============================] - 14s 109ms/step - loss: 0.2956 - accuracy: 0.9066 - val_loss: 0.3125 - val_accuracy: 0.9006\n",
            "Epoch 16/70\n",
            "125/125 [==============================] - 14s 109ms/step - loss: 0.2779 - accuracy: 0.9129 - val_loss: 0.3009 - val_accuracy: 0.9029\n",
            "Epoch 17/70\n",
            "125/125 [==============================] - 14s 108ms/step - loss: 0.2610 - accuracy: 0.9192 - val_loss: 0.2916 - val_accuracy: 0.9040\n",
            "Epoch 18/70\n",
            "125/125 [==============================] - 14s 109ms/step - loss: 0.2442 - accuracy: 0.9256 - val_loss: 0.2870 - val_accuracy: 0.9058\n",
            "Epoch 19/70\n",
            "125/125 [==============================] - 14s 108ms/step - loss: 0.2318 - accuracy: 0.9284 - val_loss: 0.2796 - val_accuracy: 0.9084\n",
            "Epoch 20/70\n",
            "125/125 [==============================] - 14s 108ms/step - loss: 0.2184 - accuracy: 0.9333 - val_loss: 0.2793 - val_accuracy: 0.9085\n",
            "Epoch 21/70\n",
            "125/125 [==============================] - 14s 108ms/step - loss: 0.2080 - accuracy: 0.9365 - val_loss: 0.2740 - val_accuracy: 0.9112\n",
            "Epoch 22/70\n",
            "125/125 [==============================] - 14s 108ms/step - loss: 0.1979 - accuracy: 0.9377 - val_loss: 0.2730 - val_accuracy: 0.9081\n",
            "Epoch 23/70\n",
            "125/125 [==============================] - 14s 108ms/step - loss: 0.1887 - accuracy: 0.9420 - val_loss: 0.2693 - val_accuracy: 0.9111\n",
            "Epoch 24/70\n",
            "125/125 [==============================] - 14s 108ms/step - loss: 0.1782 - accuracy: 0.9436 - val_loss: 0.2625 - val_accuracy: 0.9113\n",
            "Epoch 25/70\n",
            "125/125 [==============================] - 13s 108ms/step - loss: 0.1729 - accuracy: 0.9461 - val_loss: 0.2573 - val_accuracy: 0.9118\n",
            "Epoch 26/70\n",
            "125/125 [==============================] - 13s 108ms/step - loss: 0.1611 - accuracy: 0.9516 - val_loss: 0.2562 - val_accuracy: 0.9134\n",
            "Epoch 27/70\n",
            "125/125 [==============================] - 13s 108ms/step - loss: 0.1569 - accuracy: 0.9504 - val_loss: 0.2521 - val_accuracy: 0.9131\n",
            "Epoch 28/70\n",
            "125/125 [==============================] - 14s 108ms/step - loss: 0.1493 - accuracy: 0.9542 - val_loss: 0.2540 - val_accuracy: 0.9129\n",
            "Epoch 29/70\n",
            "125/125 [==============================] - 14s 108ms/step - loss: 0.1452 - accuracy: 0.9532 - val_loss: 0.2510 - val_accuracy: 0.9144\n",
            "Epoch 30/70\n",
            "125/125 [==============================] - 13s 108ms/step - loss: 0.1374 - accuracy: 0.9549 - val_loss: 0.2527 - val_accuracy: 0.9156\n",
            "Epoch 31/70\n",
            "125/125 [==============================] - 14s 109ms/step - loss: 0.1295 - accuracy: 0.9592 - val_loss: 0.2471 - val_accuracy: 0.9149\n",
            "Epoch 32/70\n",
            "125/125 [==============================] - 14s 108ms/step - loss: 0.1228 - accuracy: 0.9623 - val_loss: 0.2464 - val_accuracy: 0.9161\n",
            "Epoch 33/70\n",
            "125/125 [==============================] - 14s 108ms/step - loss: 0.1206 - accuracy: 0.9600 - val_loss: 0.2439 - val_accuracy: 0.9145\n",
            "Epoch 34/70\n",
            "125/125 [==============================] - 14s 108ms/step - loss: 0.1161 - accuracy: 0.9649 - val_loss: 0.2424 - val_accuracy: 0.9186\n",
            "Epoch 35/70\n",
            "125/125 [==============================] - 13s 108ms/step - loss: 0.1096 - accuracy: 0.9656 - val_loss: 0.2438 - val_accuracy: 0.9168\n",
            "Epoch 36/70\n",
            "125/125 [==============================] - 14s 108ms/step - loss: 0.1077 - accuracy: 0.9661 - val_loss: 0.2448 - val_accuracy: 0.9186\n",
            "Epoch 37/70\n",
            "125/125 [==============================] - 14s 108ms/step - loss: 0.1022 - accuracy: 0.9684 - val_loss: 0.2447 - val_accuracy: 0.9199\n",
            "Epoch 38/70\n",
            "125/125 [==============================] - 14s 108ms/step - loss: 0.1018 - accuracy: 0.9669 - val_loss: 0.2420 - val_accuracy: 0.9184\n",
            "Epoch 39/70\n",
            "125/125 [==============================] - 14s 108ms/step - loss: 0.0964 - accuracy: 0.9697 - val_loss: 0.2455 - val_accuracy: 0.9167\n",
            "Epoch 40/70\n",
            "125/125 [==============================] - 14s 108ms/step - loss: 0.0930 - accuracy: 0.9703 - val_loss: 0.2456 - val_accuracy: 0.9198\n",
            "Epoch 41/70\n",
            "125/125 [==============================] - 14s 108ms/step - loss: 0.0894 - accuracy: 0.9713 - val_loss: 0.2403 - val_accuracy: 0.9207\n",
            "Epoch 42/70\n",
            "125/125 [==============================] - 14s 108ms/step - loss: 0.0889 - accuracy: 0.9726 - val_loss: 0.2403 - val_accuracy: 0.9204\n",
            "Epoch 43/70\n",
            "125/125 [==============================] - 14s 108ms/step - loss: 0.0806 - accuracy: 0.9743 - val_loss: 0.2438 - val_accuracy: 0.9195\n",
            "Epoch 44/70\n",
            "125/125 [==============================] - 13s 108ms/step - loss: 0.0833 - accuracy: 0.9736 - val_loss: 0.2424 - val_accuracy: 0.9199\n",
            "Epoch 45/70\n",
            "125/125 [==============================] - 13s 108ms/step - loss: 0.0760 - accuracy: 0.9755 - val_loss: 0.2446 - val_accuracy: 0.9204\n",
            "Epoch 46/70\n",
            "125/125 [==============================] - 13s 108ms/step - loss: 0.0746 - accuracy: 0.9764 - val_loss: 0.2428 - val_accuracy: 0.9200\n",
            "Epoch 47/70\n",
            "125/125 [==============================] - 13s 108ms/step - loss: 0.0740 - accuracy: 0.9746 - val_loss: 0.2464 - val_accuracy: 0.9206\n",
            "Epoch 48/70\n",
            "125/125 [==============================] - 13s 108ms/step - loss: 0.0724 - accuracy: 0.9771 - val_loss: 0.2427 - val_accuracy: 0.9206\n",
            "Epoch 49/70\n",
            "125/125 [==============================] - 13s 108ms/step - loss: 0.0715 - accuracy: 0.9782 - val_loss: 0.2432 - val_accuracy: 0.9223\n",
            "Epoch 50/70\n",
            "125/125 [==============================] - 14s 108ms/step - loss: 0.0657 - accuracy: 0.9794 - val_loss: 0.2424 - val_accuracy: 0.9227\n",
            "Epoch 51/70\n",
            "125/125 [==============================] - 13s 108ms/step - loss: 0.0648 - accuracy: 0.9796 - val_loss: 0.2476 - val_accuracy: 0.9213\n",
            "Epoch 52/70\n",
            "125/125 [==============================] - 14s 108ms/step - loss: 0.0669 - accuracy: 0.9780 - val_loss: 0.2467 - val_accuracy: 0.9215\n",
            "Epoch 53/70\n",
            "125/125 [==============================] - 13s 108ms/step - loss: 0.0625 - accuracy: 0.9805 - val_loss: 0.2580 - val_accuracy: 0.9220\n",
            "Epoch 54/70\n",
            "125/125 [==============================] - 14s 108ms/step - loss: 0.0585 - accuracy: 0.9816 - val_loss: 0.2525 - val_accuracy: 0.9193\n",
            "Epoch 55/70\n",
            "125/125 [==============================] - 13s 108ms/step - loss: 0.0583 - accuracy: 0.9815 - val_loss: 0.2530 - val_accuracy: 0.9209\n",
            "Epoch 56/70\n",
            "125/125 [==============================] - 13s 108ms/step - loss: 0.0584 - accuracy: 0.9814 - val_loss: 0.2552 - val_accuracy: 0.9212\n",
            "Epoch 57/70\n",
            "125/125 [==============================] - 14s 108ms/step - loss: 0.0584 - accuracy: 0.9807 - val_loss: 0.2538 - val_accuracy: 0.9215\n",
            "Epoch 58/70\n",
            "125/125 [==============================] - 13s 108ms/step - loss: 0.0539 - accuracy: 0.9832 - val_loss: 0.2564 - val_accuracy: 0.9200\n",
            "Epoch 59/70\n",
            "125/125 [==============================] - 14s 108ms/step - loss: 0.0501 - accuracy: 0.9844 - val_loss: 0.2548 - val_accuracy: 0.9217\n",
            "Epoch 60/70\n",
            "125/125 [==============================] - 14s 108ms/step - loss: 0.0515 - accuracy: 0.9836 - val_loss: 0.2505 - val_accuracy: 0.9213\n",
            "Epoch 61/70\n",
            "125/125 [==============================] - 13s 108ms/step - loss: 0.0494 - accuracy: 0.9856 - val_loss: 0.2556 - val_accuracy: 0.9206\n",
            "Epoch 62/70\n",
            "125/125 [==============================] - 13s 108ms/step - loss: 0.0475 - accuracy: 0.9848 - val_loss: 0.2615 - val_accuracy: 0.9213\n",
            "Epoch 63/70\n",
            "125/125 [==============================] - 13s 108ms/step - loss: 0.0477 - accuracy: 0.9843 - val_loss: 0.2596 - val_accuracy: 0.9209\n",
            "Epoch 64/70\n",
            "125/125 [==============================] - 13s 107ms/step - loss: 0.0464 - accuracy: 0.9855 - val_loss: 0.2603 - val_accuracy: 0.9217\n",
            "Epoch 65/70\n",
            "125/125 [==============================] - 13s 108ms/step - loss: 0.0434 - accuracy: 0.9869 - val_loss: 0.2593 - val_accuracy: 0.9209\n",
            "Epoch 66/70\n",
            "125/125 [==============================] - 13s 108ms/step - loss: 0.0422 - accuracy: 0.9866 - val_loss: 0.2651 - val_accuracy: 0.9221\n",
            "Epoch 67/70\n",
            "125/125 [==============================] - 14s 108ms/step - loss: 0.0431 - accuracy: 0.9876 - val_loss: 0.2641 - val_accuracy: 0.9198\n",
            "Epoch 68/70\n",
            "125/125 [==============================] - 13s 108ms/step - loss: 0.0422 - accuracy: 0.9871 - val_loss: 0.2646 - val_accuracy: 0.9216\n",
            "Epoch 69/70\n",
            "125/125 [==============================] - 13s 108ms/step - loss: 0.0445 - accuracy: 0.9861 - val_loss: 0.2636 - val_accuracy: 0.9229\n",
            "Epoch 70/70\n",
            "125/125 [==============================] - 13s 108ms/step - loss: 0.0414 - accuracy: 0.9865 - val_loss: 0.2669 - val_accuracy: 0.9234\n",
            "Model: \"sequential_5\"\n",
            "_________________________________________________________________\n",
            "Layer (type)                 Output Shape              Param #   \n",
            "=================================================================\n",
            "functional_3 (Functional)    (None, 512)               14714688  \n",
            "_________________________________________________________________\n",
            "dense_15 (Dense)             (None, 512)               262656    \n",
            "_________________________________________________________________\n",
            "dropout_10 (Dropout)         (None, 512)               0         \n",
            "_________________________________________________________________\n",
            "dense_16 (Dense)             (None, 512)               262656    \n",
            "_________________________________________________________________\n",
            "dropout_11 (Dropout)         (None, 512)               0         \n",
            "_________________________________________________________________\n",
            "dense_17 (Dense)             (None, 40)                20520     \n",
            "=================================================================\n",
            "Total params: 15,260,520\n",
            "Trainable params: 545,832\n",
            "Non-trainable params: 14,714,688\n",
            "_________________________________________________________________\n"
          ],
          "name": "stdout"
        }
      ]
    },
    {
      "cell_type": "code",
      "metadata": {
        "id": "7OnvZKyOH27I",
        "colab_type": "code",
        "colab": {
          "base_uri": "https://localhost:8080/",
          "height": 295
        },
        "outputId": "b02e8bf2-97c1-49eb-f64f-cfacb5c7cb35"
      },
      "source": [
        "plt.plot(vgg16_history1.history['loss'])\n",
        "plt.plot(vgg16_history1.history['val_loss'])\n",
        "plt.title(\"Model Loss\")\n",
        "plt.xlabel('Epochs')\n",
        "plt.ylabel('Loss')\n",
        "plt.legend(['Train', 'Test'])\n",
        "plt.show()"
      ],
      "execution_count": 23,
      "outputs": [
        {
          "output_type": "display_data",
          "data": {
            "image/png": "[encoded data removed]",
            "text/plain": [
              "<Figure size 432x288 with 1 Axes>"
            ]
          },
          "metadata": {
            "tags": [],
            "needs_background": "light"
          }
        }
      ]
    },
    {
      "cell_type": "code",
      "metadata": {
        "id": "JWO1CgwhH9f5",
        "colab_type": "code",
        "colab": {
          "base_uri": "https://localhost:8080/",
          "height": 295
        },
        "outputId": "496d59d3-1f3b-49df-ea45-51d3dabfdb70"
      },
      "source": [
        "plt.plot(vgg16_history1.history['accuracy'])\n",
        "plt.plot(vgg16_history1.history['val_accuracy'])\n",
        "plt.title(\"Model Accuracy\")\n",
        "plt.xlabel('Epochs')\n",
        "plt.ylabel('Accuracy')\n",
        "plt.legend(['Train', 'Test'])\n",
        "plt.show()"
      ],
      "execution_count": 24,
      "outputs": [
        {
          "output_type": "display_data",
          "data": {
            "image/png": "[encoded data removed]",
            "text/plain": [
              "<Figure size 432x288 with 1 Axes>"
            ]
          },
          "metadata": {
            "tags": [],
            "needs_background": "light"
          }
        }
      ]
    },
    {
      "cell_type": "code",
      "metadata": {
        "id": "3GTPsTUI2kCw",
        "colab_type": "code",
        "colab": {}
      },
      "source": [
        "model.save('/content/drive/My Drive/vgg16_70e_0.4*0.4.h5')"
      ],
      "execution_count": 33,
      "outputs": []
    },
    {
      "cell_type": "code",
      "metadata": {
        "id": "ELJXncbl01ix",
        "colab_type": "code",
        "colab": {}
      },
      "source": [
        "model = keras.models.load_model('/content/drive/My Drive/vgg16_70e_0.4*0.4.h5')"
      ],
      "execution_count": 8,
      "outputs": []
    },
    {
      "cell_type": "code",
      "metadata": {
        "id": "DdtBNibOyMEU",
        "colab_type": "code",
        "colab": {}
      },
      "source": [
        "from sklearn.metrics import confusion_matrix,classification_report\n",
        "\n",
        "y_pred = model.predict(valid_x)\n",
        "\n",
        "y_predictions = [np.argmax(i) for i in y_pred]"
      ],
      "execution_count": 27,
      "outputs": []
    },
    {
      "cell_type": "code",
      "metadata": {
        "id": "2KfQBuWp174I",
        "colab_type": "code",
        "colab": {}
      },
      "source": [
        "import pandas as pd\n",
        "pd.set_option('display.max_columns',None)\n",
        "confusion_matrix = pd.DataFrame(confusion_matrix(valid_y,y_predictions))\n",
        "\n",
        "confusion_matrix.to_csv('/content/drive/My Drive/confusion_matrix.csv')"
      ],
      "execution_count": 28,
      "outputs": []
    },
    {
      "cell_type": "code",
      "metadata": {
        "id": "YeUE7c-90w7Y",
        "colab_type": "code",
        "colab": {
          "base_uri": "https://localhost:8080/",
          "height": 816
        },
        "outputId": "510cc869-eb2d-47e2-989f-4debf7ca674e"
      },
      "source": [
        "print(classification_report(valid_y,y_predictions))"
      ],
      "execution_count": 29,
      "outputs": [
        {
          "output_type": "stream",
          "text": [
            "              precision    recall  f1-score   support\n",
            "\n",
            "           0       0.95      0.93      0.94       200\n",
            "           1       0.94      0.97      0.96       200\n",
            "           2       0.96      0.97      0.97       200\n",
            "           3       0.93      0.93      0.93       200\n",
            "           4       0.96      0.94      0.95       200\n",
            "           5       0.97      0.95      0.96       200\n",
            "           6       0.97      0.97      0.97       200\n",
            "           7       0.90      0.90      0.90       200\n",
            "           8       0.99      0.98      0.99       200\n",
            "           9       0.89      0.93      0.91       200\n",
            "          10       0.99      1.00      0.99       200\n",
            "          11       0.92      0.90      0.91       200\n",
            "          12       0.91      0.95      0.93       200\n",
            "          13       0.96      0.98      0.97       200\n",
            "          14       0.99      0.97      0.98       200\n",
            "          15       0.99      0.99      0.99       200\n",
            "          16       0.97      0.90      0.94       200\n",
            "          17       0.93      0.97      0.95       200\n",
            "          18       0.92      0.96      0.94       200\n",
            "          19       0.94      0.89      0.91       200\n",
            "          20       0.93      0.97      0.95       200\n",
            "          21       0.93      0.91      0.92       200\n",
            "          22       0.96      0.95      0.95       200\n",
            "          23       0.97      0.98      0.98       200\n",
            "          24       0.95      0.95      0.95       200\n",
            "          25       0.99      1.00      1.00       200\n",
            "          26       0.98      0.98      0.98       200\n",
            "          27       0.97      0.98      0.98       200\n",
            "          28       0.89      0.92      0.90       200\n",
            "          29       0.79      0.80      0.80       200\n",
            "          30       0.85      0.81      0.83       200\n",
            "          31       0.88      0.89      0.89       200\n",
            "          32       0.84      0.79      0.81       200\n",
            "          33       0.84      0.89      0.86       200\n",
            "          34       0.83      0.74      0.78       200\n",
            "          35       0.94      0.94      0.94       200\n",
            "          36       0.95      0.94      0.94       200\n",
            "          37       0.88      0.94      0.91       200\n",
            "          38       0.67      0.53      0.59       100\n",
            "          39       0.62      0.75      0.68       104\n",
            "\n",
            "    accuracy                           0.92      7804\n",
            "   macro avg       0.92      0.92      0.92      7804\n",
            "weighted avg       0.92      0.92      0.92      7804\n",
            "\n"
          ],
          "name": "stdout"
        }
      ]
    },
    {
      "cell_type": "code",
      "metadata": {
        "id": "_QX59xRw5zLX",
        "colab_type": "code",
        "colab": {
          "base_uri": "https://localhost:8080/",
          "height": 32
        },
        "outputId": "3988fe24-9841-4e60-deac-aea67934c0bb"
      },
      "source": [
        "classification_report"
      ],
      "execution_count": 26,
      "outputs": [
        {
          "output_type": "execute_result",
          "data": {
            "text/html": [
              "<div>\n",
              "<style scoped>\n",
              "    .dataframe tbody tr th:only-of-type {\n",
              "        vertical-align: middle;\n",
              "    }\n",
              "\n",
              "    .dataframe tbody tr th {\n",
              "        vertical-align: top;\n",
              "    }\n",
              "\n",
              "    .dataframe thead th {\n",
              "        text-align: right;\n",
              "    }\n",
              "</style>\n",
              "<table border=\"1\" class=\"dataframe\">\n",
              "  <thead>\n",
              "    <tr style=\"text-align: right;\">\n",
              "      <th></th>\n",
              "    </tr>\n",
              "  </thead>\n",
              "  <tbody>\n",
              "  </tbody>\n",
              "</table>\n",
              "</div>"
            ],
            "text/plain": [
              "Empty DataFrame\n",
              "Columns: []\n",
              "Index: []"
            ]
          },
          "metadata": {
            "tags": []
          },
          "execution_count": 26
        }
      ]
    }
  ]
}